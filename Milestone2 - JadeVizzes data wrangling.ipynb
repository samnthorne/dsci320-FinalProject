{
 "cells": [
  {
   "cell_type": "markdown",
   "id": "fc3cec0a-08e3-42d0-9d81-aa568233559e",
   "metadata": {},
   "source": [
    "### Set Up"
   ]
  },
  {
   "cell_type": "code",
   "execution_count": 18,
   "id": "134f3701-1a86-4a3d-bc5a-ce20ca2ca547",
   "metadata": {
    "ExecuteTime": {
     "end_time": "2023-10-11T01:59:27.550785Z",
     "start_time": "2023-10-11T01:59:26.763657Z"
    },
    "pycharm": {
     "name": "#%%\n"
    },
    "tags": []
   },
   "outputs": [],
   "source": [
    "import pandas as pd\n",
    "import numpy as np\n",
    "import altair as alt\n",
    "from IPython.display import Image\n",
    "\n",
    "# Suppress FutureWarning\n",
    "import warnings\n",
    "warnings.filterwarnings(\"ignore\")"
   ]
  },
  {
   "cell_type": "markdown",
   "id": "26ad46f5-17cf-4bc3-8d2e-80a360d54071",
   "metadata": {},
   "source": [
    "### Read in Data"
   ]
  },
  {
   "cell_type": "code",
   "execution_count": 37,
   "id": "0feb601e-6cd1-4c72-bd29-fffe4dc4af38",
   "metadata": {
    "scrolled": true,
    "tags": []
   },
   "outputs": [],
   "source": [
    "#Used more robust encoding 'ISO-8859-1' instead of 'ascii' (got error)\n",
    "data = pd.read_csv('data/my_data(v3).csv', encoding='ISO-8859-1')"
   ]
  },
  {
   "cell_type": "markdown",
   "id": "d085983d-a288-4446-9d48-37e69b1b386e",
   "metadata": {},
   "source": [
    "# JADE - INTERACTIVE VIZ #1"
   ]
  },
  {
   "cell_type": "code",
   "execution_count": 38,
   "id": "8cfc3650-8dee-4a3b-8ca9-0f42c3d52ec5",
   "metadata": {
    "scrolled": true
   },
   "outputs": [],
   "source": [
    "# Filter the DataFrame for rows where 'is_athlete' is Athlete, Non-Athlete\n",
    "filtered_data = data[data['is_athlete'].isin([\"Athlete\", \"Non-Athlete\"])]"
   ]
  },
  {
   "cell_type": "markdown",
   "id": "ed70734e-7f2f-4a9a-8f19-d9d2cbedc412",
   "metadata": {},
   "source": [
    "### Occupation"
   ]
  },
  {
   "cell_type": "code",
   "execution_count": 40,
   "id": "f18ca32b-b877-4364-ae4c-b3120387240d",
   "metadata": {},
   "outputs": [],
   "source": [
    "filtered_data['Occupation'] = filtered_data['Occupation'].str.upper()\n",
    "\n",
    "# Group by 'Occupation' and 'is_athlete', calculate the average of 'happy' for each group\n",
    "grouped_occupation_data = filtered_data.groupby(['Occupation', 'is_athlete'])['Happy'].mean().reset_index()\n",
    "\n",
    "# Round the 'Happy' column averages to the nearest 0.5, handling NaN values\n",
    "grouped_occupation_data['Happy'] = grouped_occupation_data['Happy'].apply(lambda x: np.nan if pd.isna(x) else round(x * 4) / 4)\n",
    "\n",
    "# Pivot the table to have 'Occupation' as rows, 'is_athlete' as columns, and 'happy' values in the cells\n",
    "pivot_occupation_data = grouped_occupation_data.pivot(index='Occupation', columns='is_athlete', values='Happy')\n",
    "\n",
    "# Rename columns to 'Athlete' and 'Non-Athlete'\n",
    "pivot_occupation_data.columns = ['Athlete', 'Non-Athlete']\n",
    "\n",
    "# Reset the index to make 'Occupation' a column again\n",
    "occupation_df = pivot_occupation_data.reset_index()\n",
    "\n",
    "# Drop rows with NaN values\n",
    "occupation_df = occupation_df.dropna()\n",
    "\n",
    "# Create a new DataFrame with 'y', 'Athlete', 'Non-Athlete', 'x1', and 'x2'\n",
    "occupation_coordinate_df = pd.DataFrame({\n",
    "    'y': occupation_df['Occupation'],\n",
    "    'Athlete': occupation_df['Athlete'],\n",
    "    'Non-Athlete': occupation_df['Non-Athlete'],\n",
    "    'x1': occupation_df[['Athlete', 'Non-Athlete']].min(axis=1),\n",
    "    'x2': occupation_df[['Athlete', 'Non-Athlete']].max(axis=1)\n",
    "})"
   ]
  },
  {
   "cell_type": "markdown",
   "id": "ab3a6cd7-b290-4dd5-b484-ce9658312659",
   "metadata": {},
   "source": [
    "### Gender"
   ]
  },
  {
   "cell_type": "code",
   "execution_count": 6,
   "id": "41bfd75f-b62c-4486-865e-f5a24208da5a",
   "metadata": {},
   "outputs": [],
   "source": [
    "# Group by 'Gender' and 'is_athlete', calculate the average of 'happy' for each group\n",
    "grouped_gender_data = filtered_data.groupby(['Gender', 'is_athlete'])['Happy'].mean().reset_index()\n",
    "\n",
    "# Round the 'Happy' column averages to the nearest 0.5, handling NaN values\n",
    "grouped_gender_data['Happy'] = grouped_gender_data['Happy'].apply(lambda x: np.nan if pd.isna(x) else round(x * 4) / 4)\n",
    "\n",
    "# Pivot the table to have 'Gender' as rows, 'is_athlete' as columns, and 'happy' values in the cells\n",
    "pivot_gender_data = grouped_gender_data.pivot(index='Gender', columns='is_athlete', values='Happy')\n",
    "\n",
    "# Rename columns to 'Athlete' and 'Non-Athlete'\n",
    "pivot_gender_data.columns = ['Athlete', 'Non-Athlete']\n",
    "\n",
    "# Reset the index to make 'Gender' a column again\n",
    "gender_df = pivot_gender_data.reset_index()\n",
    "\n",
    "# Drop rows with NaN values\n",
    "gender_df = gender_df.dropna()\n",
    "\n",
    "# Create a new DataFrame with 'Gender', 'Athlete', 'Non-Athlete', 'x1', and 'x2'\n",
    "gender_coordinate_df = pd.DataFrame({\n",
    "    'y': gender_df['Gender'],\n",
    "    'Athlete': gender_df['Athlete'],\n",
    "    'Non-Athlete': gender_df['Non-Athlete'],\n",
    "    'x1': gender_df[['Athlete', 'Non-Athlete']].min(axis=1),\n",
    "    'x2': gender_df[['Athlete', 'Non-Athlete']].max(axis=1)\n",
    "})"
   ]
  },
  {
   "cell_type": "markdown",
   "id": "c822612d-1e64-4f64-a46c-cef54ffe620b",
   "metadata": {},
   "source": [
    "### Age Group"
   ]
  },
  {
   "cell_type": "code",
   "execution_count": 9,
   "id": "2e0247f9-00fe-4a93-b2d9-63e2280e7137",
   "metadata": {},
   "outputs": [],
   "source": [
    "# Group by 'Age Group' and 'is_athlete', calculate the average of 'happy' for each group\n",
    "grouped_age_group_data = filtered_data.groupby(['Age Group', 'is_athlete'])['Happy'].mean().reset_index()\n",
    "\n",
    "# Round the 'Happy' column averages to the nearest 0.5, handling NaN values\n",
    "grouped_age_group_data['Happy'] = grouped_age_group_data['Happy'].apply(lambda x: np.nan if pd.isna(x) else round(x * 4) / 4)\n",
    "\n",
    "# Pivot the table to have 'Age Group' as rows, 'is_athlete' as columns, and 'happy' values in the cells\n",
    "pivot_age_group_data = grouped_age_group_data.pivot(index='Age Group', columns='is_athlete', values='Happy')\n",
    "\n",
    "# Rename columns to 'Athlete' and 'Non-Athlete'\n",
    "pivot_age_group_data.columns = ['Athlete', 'Non-Athlete']\n",
    "\n",
    "# Reset the index to make 'Age Group' a column again\n",
    "age_group_df = pivot_age_group_data.reset_index()\n",
    "\n",
    "# Drop rows with NaN values\n",
    "age_group_df = age_group_df.dropna()\n",
    "\n",
    "# Create a new DataFrame with 'Age Group', 'Athlete', 'Non-Athlete', 'x1', and 'x2'\n",
    "age_group_coordinate_df = pd.DataFrame({\n",
    "    'y': age_group_df['Age Group'],\n",
    "    'Athlete': age_group_df['Athlete'],\n",
    "    'Non-Athlete': age_group_df['Non-Athlete'],\n",
    "    'x1': age_group_df[['Athlete', 'Non-Athlete']].min(axis=1),\n",
    "    'x2': age_group_df[['Athlete', 'Non-Athlete']].max(axis=1)\n",
    "})"
   ]
  },
  {
   "cell_type": "markdown",
   "id": "5d7759e2-7f65-493e-8cff-fa77356538b8",
   "metadata": {},
   "source": [
    "### Country During Lockdown"
   ]
  },
  {
   "cell_type": "code",
   "execution_count": 10,
   "id": "5b0f5698-e896-4eae-907d-04310680a32c",
   "metadata": {},
   "outputs": [],
   "source": [
    "# Group by 'CountryDuringLockdown' and 'is_athlete', calculate the average of 'happy' for each group\n",
    "grouped_country_data = filtered_data.groupby(['Country During Lockdown', 'is_athlete'])['Happy'].mean().reset_index()\n",
    "\n",
    "# Round the 'Happy' column averages to the nearest 0.5, handling NaN values\n",
    "grouped_country_data['Happy'] = grouped_country_data['Happy'].apply(lambda x: np.nan if pd.isna(x) else round(x * 4) / 4)\n",
    "\n",
    "# Pivot the table to have 'CountryDuringLockdown' as rows, 'is_athlete' as columns, and 'happy' values in the cells\n",
    "pivot_country_data = grouped_country_data.pivot(index='Country During Lockdown', columns='is_athlete', values='Happy')\n",
    "\n",
    "# Rename columns to 'Athlete' and 'Non-Athlete'\n",
    "pivot_country_data.columns = ['Athlete', 'Non-Athlete']\n",
    "\n",
    "# Reset the index to make 'CountryDuringLockdown' a column again\n",
    "country_df = pivot_country_data.reset_index()\n",
    "\n",
    "# Drop rows with NaN values\n",
    "country_df = country_df.dropna()\n",
    "\n",
    "# Create a new DataFrame with 'CountryDuringLockdown', 'Athlete', 'Non-Athlete', 'x1', and 'x2'\n",
    "country_during_lockdown_coordinate_df = pd.DataFrame({\n",
    "    'y': country_df['Country During Lockdown'],\n",
    "    'Athlete': country_df['Athlete'],\n",
    "    'Non-Athlete': country_df['Non-Athlete'],\n",
    "    'x1': country_df[['Athlete', 'Non-Athlete']].min(axis=1),\n",
    "    'x2': country_df[['Athlete', 'Non-Athlete']].max(axis=1)\n",
    "})"
   ]
  },
  {
   "cell_type": "markdown",
   "id": "7b6034fd-5f10-4e0a-bdf3-e4763e929cdf",
   "metadata": {},
   "source": [
    "### COMBINE DATAFRAMES"
   ]
  },
  {
   "cell_type": "code",
   "execution_count": 11,
   "id": "72bf1648-b97e-4e9f-8b8a-d21ef9d2e94a",
   "metadata": {},
   "outputs": [],
   "source": [
    "# Combine DataFrames\n",
    "combined_df = pd.concat([occupation_coordinate_df.assign(Dataset='Occupation'),\n",
    "                         gender_coordinate_df.assign(Dataset='Gender'),\n",
    "                         age_group_coordinate_df.assign(Dataset='Age Group'),\n",
    "                         country_during_lockdown_coordinate_df.assign(Dataset='Country During Lockdown')])"
   ]
  },
  {
   "cell_type": "code",
   "execution_count": 12,
   "id": "0d8091fe-222f-455f-860e-6c9e3d1a1351",
   "metadata": {
    "tags": []
   },
   "outputs": [],
   "source": [
    "combined_df.to_csv('data/jade_viz_1.csv', index=False)"
   ]
  },
  {
   "cell_type": "markdown",
   "id": "27793fce-6956-41dc-9542-0c955a6d5328",
   "metadata": {},
   "source": [
    "## Interactive #1 (v2)"
   ]
  },
  {
   "cell_type": "code",
   "execution_count": 41,
   "id": "a93a3a65-5e33-408c-b999-dbb12079a08f",
   "metadata": {},
   "outputs": [],
   "source": [
    "# Add a new column 'Difference' to represent the difference between 'Athlete' and 'Non-Athlete'\n",
    "occupation_coordinate_df['Difference'] = occupation_coordinate_df['Athlete'] - occupation_coordinate_df['Non-Athlete']\n",
    "\n",
    "\n",
    "# Create a new DataFrame with 'y', 'Athlete', 'Non-Athlete', 'x1', 'x2', and 'Difference'\n",
    "occupation_coordinate_df_v2 = pd.DataFrame({\n",
    "    'y': occupation_df['Occupation'],\n",
    "    'Athlete': occupation_df['Athlete'],\n",
    "    'Non-Athlete': occupation_df['Non-Athlete'],\n",
    "    'x1': occupation_df[['Athlete', 'Non-Athlete']].min(axis=1),\n",
    "    'x2': occupation_df[['Athlete', 'Non-Athlete']].max(axis=1),\n",
    "    'Difference': occupation_coordinate_df['Difference']\n",
    "})"
   ]
  },
  {
   "cell_type": "code",
   "execution_count": 42,
   "id": "7a9bb077-ab02-466e-94f0-96b965c5f59f",
   "metadata": {},
   "outputs": [],
   "source": [
    "occupation_coordinate_df_v2.to_csv('data/jade_viz_1(v2).csv', index=False)"
   ]
  },
  {
   "cell_type": "markdown",
   "id": "9a39bd0d-b6e4-4db7-b7aa-5c7387546376",
   "metadata": {},
   "source": [
    "## Interactive #2"
   ]
  },
  {
   "cell_type": "code",
   "execution_count": 14,
   "id": "f3c4a186-3385-4854-afa5-60805bfe1095",
   "metadata": {},
   "outputs": [],
   "source": [
    "data3 = data.copy()\n",
    "data3 = data3.rename(columns = {'Athlete/Non-Athlete' : 'is_athlete'})\n",
    "\n",
    "# removing spaces from column headers\n",
    "\n",
    "data4 = data3.copy()\n",
    "\n",
    "data4.columns = data3.columns.str.replace(' ', '')\n",
    "\n",
    "data4['AgeGroup']=data4['AgeGroup'].replace(\n",
    "    {\n",
    "        1: '18-20', 2: '21-30', 3:'31-40', 4:'41-50', 5:'51-60', 6:'61-70', 7:'71+'\n",
    "    }\n",
    ")\n",
    "\n",
    "# CountryDuringLockdown\n",
    "data4['CountryDuringLockdown']=data4['CountryDuringLockdown'].replace(\n",
    "    {\n",
    "        1:'UK', 2:'Ireland', 3:'New Zealand', \n",
    "        4:'Australia', 5:'Thailand', 6:'Belgium', 7:'Sweden'\n",
    "    }\n",
    ")\n",
    "\n",
    "# MaritalStatus\n",
    "data4['MaritalStatus'] = data4['MaritalStatus'].replace(\n",
    "    {\n",
    "        1:'Single',\n",
    "        2:'Married/Cohabiting',\n",
    "        3:'Civil Partnership',\n",
    "        4:'Divorced',\n",
    "        5:'Widowed'\n",
    "    }\n",
    ")\n",
    "\n",
    "#SmokingStatus\n",
    "data4['SmokingStatus'] = data4['SmokingStatus'].replace(\n",
    "    {\n",
    "        1:'Never',\n",
    "        2:'Ex-occasional smoker',\n",
    "        3:'Ex-smoker',\n",
    "        4:'Occasional',\n",
    "        5:'Half pack daily',\n",
    "        6:'Full pack daily',\n",
    "        7:'Multiple packs daily'\n",
    "    }\n",
    ")\n",
    "\n",
    "# FiveFruitandVeg\n",
    "data4['FiveFruitandVeg'] = data4['FiveFruitandVeg'].replace(\n",
    "    {\n",
    "        1:'Yes',\n",
    "        2:'No'\n",
    "    }\n",
    ")\n",
    "\n",
    "# Dropping the 5994 rows\n",
    "data4 = data4[data4['PsychologicalWellbeing'] != 5994]\n",
    "\n",
    "# I need to bin hours of sleep\n",
    "data4['Hourssleep'] = data4['Hourssleep'].replace(\n",
    "        dict.fromkeys([1, 1.5, 2, 2.5, 3, 3.5],'< 4')).replace(\n",
    "        dict.fromkeys([4, 4.5, 5, 5.5],'< 6')).replace(\n",
    "        dict.fromkeys([6, 6.5, 7, 7.5],'< 8')).replace(\n",
    "        dict.fromkeys([8, 8.5, 9, 9.5],'< 10')).replace(\n",
    "        dict.fromkeys([10, 10.5],'10 +'))\n",
    "\n",
    "# Changes weeks spent distancing intervals\n",
    "data4['WeeksSocialDistancing']=data4['WeeksSocialDistancing'].replace({0:1, 2:4, 3:7, 4:10, 5:13, 6:16, 7:19, 8:21})\n",
    "\n",
    "data_viz2 = data4.copy()\n",
    "\n",
    "# Define a function to map severity based on the given conditions\n",
    "def map_severity(score):\n",
    "    if score <= 7:\n",
    "        return 'Normal'\n",
    "    elif 8 <= score <= 10:\n",
    "        return 'Mild'\n",
    "    else:\n",
    "        return 'Severe'\n",
    "\n",
    "# Create new columns based on the specified conditions\n",
    "data_viz2['Anxiety Severity'] = data_viz2['HADS-AAVERAGE'].apply(map_severity)\n",
    "data_viz2['Depression Severity'] = data_viz2['HADS-DAVERAGE'].apply(map_severity)"
   ]
  },
  {
   "cell_type": "code",
   "execution_count": 15,
   "id": "8633e9c3-bf39-4f64-9271-9056a4e425b5",
   "metadata": {
    "tags": []
   },
   "outputs": [],
   "source": [
    "data_viz2.to_csv('data/jade_viz_2.csv', index=False)"
   ]
  },
  {
   "cell_type": "code",
   "execution_count": null,
   "id": "a5dd5902-cf52-4e0d-a4b8-d6f4434cde69",
   "metadata": {},
   "outputs": [],
   "source": []
  }
 ],
 "metadata": {
  "kernelspec": {
   "display_name": "Python [conda env:320]",
   "language": "python",
   "name": "conda-env-320-py"
  },
  "language_info": {
   "codemirror_mode": {
    "name": "ipython",
    "version": 3
   },
   "file_extension": ".py",
   "mimetype": "text/x-python",
   "name": "python",
   "nbconvert_exporter": "python",
   "pygments_lexer": "ipython3",
   "version": "3.11.5"
  }
 },
 "nbformat": 4,
 "nbformat_minor": 5
}
