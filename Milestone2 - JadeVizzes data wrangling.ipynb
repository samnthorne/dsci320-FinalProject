{
 "cells": [
  {
   "cell_type": "markdown",
   "id": "fc3cec0a-08e3-42d0-9d81-aa568233559e",
   "metadata": {},
   "source": [
    "### Set Up"
   ]
  },
  {
   "cell_type": "code",
   "execution_count": 1,
   "id": "134f3701-1a86-4a3d-bc5a-ce20ca2ca547",
   "metadata": {
    "ExecuteTime": {
     "end_time": "2023-10-11T01:59:27.550785Z",
     "start_time": "2023-10-11T01:59:26.763657Z"
    },
    "pycharm": {
     "name": "#%%\n"
    },
    "tags": []
   },
   "outputs": [],
   "source": [
    "import pandas as pd\n",
    "import numpy as np\n",
    "import altair as alt\n",
    "from IPython.display import Image\n",
    "\n",
    "# Suppress FutureWarning\n",
    "import warnings\n",
    "warnings.filterwarnings(\"ignore\")"
   ]
  },
  {
   "cell_type": "markdown",
   "id": "26ad46f5-17cf-4bc3-8d2e-80a360d54071",
   "metadata": {},
   "source": [
    "### Read in Data"
   ]
  },
  {
   "cell_type": "code",
   "execution_count": 2,
   "id": "0feb601e-6cd1-4c72-bd29-fffe4dc4af38",
   "metadata": {
    "scrolled": true,
    "tags": []
   },
   "outputs": [],
   "source": [
    "#Used more robust encoding 'ISO-8859-1' instead of 'ascii' (got error)\n",
    "data = pd.read_csv('data/my_data(v4).csv', encoding='ISO-8859-1')"
   ]
  },
  {
   "cell_type": "markdown",
   "id": "d085983d-a288-4446-9d48-37e69b1b386e",
   "metadata": {},
   "source": [
    "# JADE - INTERACTIVE VIZ #1"
   ]
  },
  {
   "cell_type": "code",
   "execution_count": 3,
   "id": "8cfc3650-8dee-4a3b-8ca9-0f42c3d52ec5",
   "metadata": {
    "scrolled": true
   },
   "outputs": [],
   "source": [
    "# Filter the DataFrame for rows where 'is_athlete' is Athlete, Non-Athlete\n",
    "filtered_data = data[data['is_athlete'].isin([\"Athlete\", \"Non-Athlete\"])]"
   ]
  },
  {
   "cell_type": "markdown",
   "id": "ed70734e-7f2f-4a9a-8f19-d9d2cbedc412",
   "metadata": {},
   "source": [
    "### Occupation"
   ]
  },
  {
   "cell_type": "code",
   "execution_count": 4,
   "id": "f18ca32b-b877-4364-ae4c-b3120387240d",
   "metadata": {},
   "outputs": [],
   "source": [
    "# Group by 'Occupation' and 'is_athlete', calculate the average of 'happy' for each group\n",
    "grouped_occupation_data = filtered_data.groupby(['Occupation', 'is_athlete'])['Happy'].mean().reset_index()\n",
    "\n",
    "# Round the 'Happy' column averages to the nearest 0.5, handling NaN values\n",
    "grouped_occupation_data['Happy'] = grouped_occupation_data['Happy'].apply(lambda x: np.nan if pd.isna(x) else round(x * 4) / 4)\n",
    "\n",
    "# Pivot the table to have 'Occupation' as rows, 'is_athlete' as columns, and 'happy' values in the cells\n",
    "pivot_occupation_data = grouped_occupation_data.pivot(index='Occupation', columns='is_athlete', values='Happy')\n",
    "\n",
    "# Rename columns to 'Athlete' and 'Non-Athlete'\n",
    "pivot_occupation_data.columns = ['Athlete', 'Non-Athlete']\n",
    "\n",
    "# Reset the index to make 'Occupation' a column again\n",
    "occupation_df = pivot_occupation_data.reset_index()\n",
    "\n",
    "# Drop rows with NaN values\n",
    "occupation_df = occupation_df.dropna()\n",
    "\n",
    "# Create a new DataFrame with 'y', 'Athlete', 'Non-Athlete', 'x1', and 'x2'\n",
    "occupation_coordinate_df = pd.DataFrame({\n",
    "    'y': occupation_df['Occupation'],\n",
    "    'Athlete': occupation_df['Athlete'],\n",
    "    'Non-Athlete': occupation_df['Non-Athlete'],\n",
    "    'x1': occupation_df[['Athlete', 'Non-Athlete']].min(axis=1),\n",
    "    'x2': occupation_df[['Athlete', 'Non-Athlete']].max(axis=1)\n",
    "})"
   ]
  },
  {
   "cell_type": "markdown",
   "id": "ab3a6cd7-b290-4dd5-b484-ce9658312659",
   "metadata": {},
   "source": [
    "### Gender"
   ]
  },
  {
   "cell_type": "code",
   "execution_count": 5,
   "id": "41bfd75f-b62c-4486-865e-f5a24208da5a",
   "metadata": {},
   "outputs": [],
   "source": [
    "# Group by 'Gender' and 'is_athlete', calculate the average of 'happy' for each group\n",
    "grouped_gender_data = filtered_data.groupby(['Gender', 'is_athlete'])['Happy'].mean().reset_index()\n",
    "\n",
    "# Round the 'Happy' column averages to the nearest 0.5, handling NaN values\n",
    "grouped_gender_data['Happy'] = grouped_gender_data['Happy'].apply(lambda x: np.nan if pd.isna(x) else round(x * 4) / 4)\n",
    "\n",
    "# Pivot the table to have 'Gender' as rows, 'is_athlete' as columns, and 'happy' values in the cells\n",
    "pivot_gender_data = grouped_gender_data.pivot(index='Gender', columns='is_athlete', values='Happy')\n",
    "\n",
    "# Rename columns to 'Athlete' and 'Non-Athlete'\n",
    "pivot_gender_data.columns = ['Athlete', 'Non-Athlete']\n",
    "\n",
    "# Reset the index to make 'Gender' a column again\n",
    "gender_df = pivot_gender_data.reset_index()\n",
    "\n",
    "# Drop rows with NaN values\n",
    "gender_df = gender_df.dropna()\n",
    "\n",
    "# Create a new DataFrame with 'Gender', 'Athlete', 'Non-Athlete', 'x1', and 'x2'\n",
    "gender_coordinate_df = pd.DataFrame({\n",
    "    'y': gender_df['Gender'],\n",
    "    'Athlete': gender_df['Athlete'],\n",
    "    'Non-Athlete': gender_df['Non-Athlete'],\n",
    "    'x1': gender_df[['Athlete', 'Non-Athlete']].min(axis=1),\n",
    "    'x2': gender_df[['Athlete', 'Non-Athlete']].max(axis=1)\n",
    "})"
   ]
  },
  {
   "cell_type": "markdown",
   "id": "c822612d-1e64-4f64-a46c-cef54ffe620b",
   "metadata": {},
   "source": [
    "### Age Group"
   ]
  },
  {
   "cell_type": "code",
   "execution_count": 6,
   "id": "2e0247f9-00fe-4a93-b2d9-63e2280e7137",
   "metadata": {},
   "outputs": [],
   "source": [
    "# Group by 'Age Group' and 'is_athlete', calculate the average of 'happy' for each group\n",
    "grouped_age_group_data = filtered_data.groupby(['AgeGroup', 'is_athlete'])['Happy'].mean().reset_index()\n",
    "\n",
    "# Round the 'Happy' column averages to the nearest 0.5, handling NaN values\n",
    "grouped_age_group_data['Happy'] = grouped_age_group_data['Happy'].apply(lambda x: np.nan if pd.isna(x) else round(x * 4) / 4)\n",
    "\n",
    "# Pivot the table to have 'Age Group' as rows, 'is_athlete' as columns, and 'happy' values in the cells\n",
    "pivot_age_group_data = grouped_age_group_data.pivot(index='AgeGroup', columns='is_athlete', values='Happy')\n",
    "\n",
    "# Rename columns to 'Athlete' and 'Non-Athlete'\n",
    "pivot_age_group_data.columns = ['Athlete', 'Non-Athlete']\n",
    "\n",
    "# Reset the index to make 'Age Group' a column again\n",
    "age_group_df = pivot_age_group_data.reset_index()\n",
    "\n",
    "# Drop rows with NaN values\n",
    "age_group_df = age_group_df.dropna()\n",
    "\n",
    "# Create a new DataFrame with 'Age Group', 'Athlete', 'Non-Athlete', 'x1', and 'x2'\n",
    "age_group_coordinate_df = pd.DataFrame({\n",
    "    'y': age_group_df['AgeGroup'],\n",
    "    'Athlete': age_group_df['Athlete'],\n",
    "    'Non-Athlete': age_group_df['Non-Athlete'],\n",
    "    'x1': age_group_df[['Athlete', 'Non-Athlete']].min(axis=1),\n",
    "    'x2': age_group_df[['Athlete', 'Non-Athlete']].max(axis=1)\n",
    "})"
   ]
  },
  {
   "cell_type": "markdown",
   "id": "5d7759e2-7f65-493e-8cff-fa77356538b8",
   "metadata": {},
   "source": [
    "### Country During Lockdown"
   ]
  },
  {
   "cell_type": "code",
   "execution_count": 7,
   "id": "5b0f5698-e896-4eae-907d-04310680a32c",
   "metadata": {},
   "outputs": [],
   "source": [
    "# Group by 'CountryDuringLockdown' and 'is_athlete', calculate the average of 'happy' for each group\n",
    "grouped_country_data = filtered_data.groupby(['CountryDuringLockdown', 'is_athlete'])['Happy'].mean().reset_index()\n",
    "\n",
    "# Round the 'Happy' column averages to the nearest 0.5, handling NaN values\n",
    "grouped_country_data['Happy'] = grouped_country_data['Happy'].apply(lambda x: np.nan if pd.isna(x) else round(x * 4) / 4)\n",
    "\n",
    "# Pivot the table to have 'CountryDuringLockdown' as rows, 'is_athlete' as columns, and 'happy' values in the cells\n",
    "pivot_country_data = grouped_country_data.pivot(index='CountryDuringLockdown', columns='is_athlete', values='Happy')\n",
    "\n",
    "# Rename columns to 'Athlete' and 'Non-Athlete'\n",
    "pivot_country_data.columns = ['Athlete', 'Non-Athlete']\n",
    "\n",
    "# Reset the index to make 'CountryDuringLockdown' a column again\n",
    "country_df = pivot_country_data.reset_index()\n",
    "\n",
    "# Drop rows with NaN values\n",
    "country_df = country_df.dropna()\n",
    "\n",
    "# Create a new DataFrame with 'CountryDuringLockdown', 'Athlete', 'Non-Athlete', 'x1', and 'x2'\n",
    "country_during_lockdown_coordinate_df = pd.DataFrame({\n",
    "    'y': country_df['CountryDuringLockdown'],\n",
    "    'Athlete': country_df['Athlete'],\n",
    "    'Non-Athlete': country_df['Non-Athlete'],\n",
    "    'x1': country_df[['Athlete', 'Non-Athlete']].min(axis=1),\n",
    "    'x2': country_df[['Athlete', 'Non-Athlete']].max(axis=1)\n",
    "})"
   ]
  },
  {
   "cell_type": "markdown",
   "id": "7b6034fd-5f10-4e0a-bdf3-e4763e929cdf",
   "metadata": {},
   "source": [
    "### COMBINE DATAFRAMES"
   ]
  },
  {
   "cell_type": "code",
   "execution_count": 8,
   "id": "72bf1648-b97e-4e9f-8b8a-d21ef9d2e94a",
   "metadata": {},
   "outputs": [],
   "source": [
    "# Combine DataFrames\n",
    "combined_df = pd.concat([occupation_coordinate_df.assign(Dataset='Occupation'),\n",
    "                         gender_coordinate_df.assign(Dataset='Gender'),\n",
    "                         age_group_coordinate_df.assign(Dataset='Age Group'),\n",
    "                         country_during_lockdown_coordinate_df.assign(Dataset='Country During Lockdown')])"
   ]
  },
  {
   "cell_type": "code",
   "execution_count": 9,
   "id": "0d8091fe-222f-455f-860e-6c9e3d1a1351",
   "metadata": {
    "tags": []
   },
   "outputs": [],
   "source": [
    "combined_df.to_csv('data/jade_viz_1.csv', index=False)"
   ]
  },
  {
   "cell_type": "markdown",
   "id": "27793fce-6956-41dc-9542-0c955a6d5328",
   "metadata": {},
   "source": [
    "## Interactive #2"
   ]
  },
  {
   "cell_type": "code",
   "execution_count": 18,
   "id": "f3c4a186-3385-4854-afa5-60805bfe1095",
   "metadata": {},
   "outputs": [],
   "source": [
    "#filter so only has ireland/uk/australia (only these countries have both athlete and non-athlete information)\n",
    "\n",
    "countries = ['Australia', 'Ireland', 'UK']\n",
    "\n",
    "data_viz2 = data.query(\n",
    "   'CountryDuringLockdown.isin(@countries)'\n",
    ")\n",
    "\n",
    "\n",
    "\n",
    "# #filter so only has ireland/uk/australia (only these countries have both athlete and non-athlete information)\n",
    "# countries = ['Australia', 'Ireland', 'UK']\n",
    "\n",
    "# data_viz2 = data.copy()\n",
    "\n",
    "# data_viz2.columns = data_viz2.columns.str.replace('-', '')\n",
    "\n",
    "# #filter outliers (more than 100)\n",
    "# data_viz2 = data_viz2.query(\n",
    "#    'CountryDuringLockdown.isin(@countries) and MHCSFOVERALL < 100 and HADSOVERALL < 100 and HADSAAVERAGE < 100 and HADSDAVERAGE < 100'\n",
    "# )\n",
    "\n",
    "# Define a function to map severity based on the given conditions\n",
    "def map_severity(score):\n",
    "    if score <= 7:\n",
    "        return 'Normal'\n",
    "    elif 8 <= score <= 10:\n",
    "        return 'Mild'\n",
    "    else:\n",
    "        return 'Severe'\n",
    "\n",
    "# Create new columns based on the specified conditions\n",
    "data_viz2['Anxiety Severity'] = data_viz2['HADS-AAVERAGE'].apply(map_severity)\n",
    "data_viz2['Depression Severity'] = data_viz2['HADS-DAVERAGE'].apply(map_severity)"
   ]
  },
  {
   "cell_type": "code",
   "execution_count": 19,
   "id": "8633e9c3-bf39-4f64-9271-9056a4e425b5",
   "metadata": {
    "tags": []
   },
   "outputs": [],
   "source": [
    "data_viz2.to_csv('data/jade_viz_2.csv', index=False)"
   ]
  }
 ],
 "metadata": {
  "kernelspec": {
   "display_name": "Python [conda env:320]",
   "language": "python",
   "name": "conda-env-320-py"
  },
  "language_info": {
   "codemirror_mode": {
    "name": "ipython",
    "version": 3
   },
   "file_extension": ".py",
   "mimetype": "text/x-python",
   "name": "python",
   "nbconvert_exporter": "python",
   "pygments_lexer": "ipython3",
   "version": "3.11.5"
  }
 },
 "nbformat": 4,
 "nbformat_minor": 5
}
